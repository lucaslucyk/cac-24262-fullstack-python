{
 "cells": [
  {
   "cell_type": "code",
   "execution_count": null,
   "metadata": {},
   "outputs": [],
   "source": []
  },
  {
   "cell_type": "code",
   "execution_count": 15,
   "metadata": {},
   "outputs": [],
   "source": [
    "class Persona:\n",
    "    \"\"\"Docstring de la clase\"\"\"\n",
    "\n",
    "    piernas = 2\n",
    "\n",
    "    # dunder\n",
    "    def __init__(self, nombre: str, edad: int) -> None:\n",
    "        # obj.atributo = valor\n",
    "        self.nombre = nombre\n",
    "        self.edad = edad\n",
    "\n",
    "\n",
    "    def caminar(self) -> None:\n",
    "        print(f\"{self.nombre} está caminando\")"
   ]
  },
  {
   "cell_type": "code",
   "execution_count": 16,
   "metadata": {},
   "outputs": [
    {
     "name": "stdout",
     "output_type": "stream",
     "text": [
      "Pedro está caminando\n"
     ]
    }
   ],
   "source": [
    "pedro = Persona(\"Pedro\", 25)\n",
    "type(pedro)\n",
    "pedro.nombre, pedro.edad, pedro.piernas\n",
    "\n",
    "pedro.caminar()"
   ]
  },
  {
   "cell_type": "code",
   "execution_count": 17,
   "metadata": {},
   "outputs": [
    {
     "name": "stdout",
     "output_type": "stream",
     "text": [
      "Juan está caminando\n"
     ]
    }
   ],
   "source": [
    "juan = Persona(nombre=\"Juan\", edad=30)\n",
    "juan.nombre, juan.edad, juan.piernas\n",
    "\n",
    "\n",
    "juan.caminar()"
   ]
  },
  {
   "cell_type": "code",
   "execution_count": 32,
   "metadata": {},
   "outputs": [],
   "source": [
    "class Person:\n",
    "\n",
    "    legs = 2\n",
    "\n",
    "    def __init__(self, name: str, age: int) -> None:\n",
    "        self.name = name\n",
    "        self.age = age\n",
    "\n",
    "        # attr \"privado\"\n",
    "        self._is_walking = False\n",
    "\n",
    "    def __str__(self) -> str:\n",
    "        return f\"{self.name} ({self.age})\"\n",
    "\n",
    "    def __repr__(self) -> str:\n",
    "        class_name = self.__class__.__name__ # Person\n",
    "        return f\"{class_name}(name={self.name}, age={self.age})\"\n",
    "\n",
    "    def walk(self) -> None:\n",
    "        self._is_walking = True\n",
    "\n",
    "    def stop(self) -> None:\n",
    "        self._is_walking = False\n",
    "\n",
    "    def show_status(self):\n",
    "        status = \"walking\" if self._is_walking else \"stopped\"\n",
    "        print(f\"{self.name} is {status}\")"
   ]
  },
  {
   "cell_type": "code",
   "execution_count": 33,
   "metadata": {},
   "outputs": [
    {
     "name": "stdout",
     "output_type": "stream",
     "text": [
      "Lucas is stopped\n",
      "Lucas is walking\n",
      "Lucas is stopped\n"
     ]
    }
   ],
   "source": [
    "lucas = Person(\"Lucas\", 25)\n",
    "lucas.show_status()\n",
    "\n",
    "lucas.walk()\n",
    "lucas.show_status()\n",
    "\n",
    "lucas.stop()\n",
    "lucas.show_status()"
   ]
  },
  {
   "cell_type": "code",
   "execution_count": 21,
   "metadata": {},
   "outputs": [],
   "source": [
    "if lucas._is_walking:\n",
    "    print(\"hacer algo\")"
   ]
  },
  {
   "cell_type": "code",
   "execution_count": 27,
   "metadata": {},
   "outputs": [
    {
     "name": "stdout",
     "output_type": "stream",
     "text": [
      "Lucas (25)\n"
     ]
    }
   ],
   "source": [
    "print(lucas)"
   ]
  },
  {
   "cell_type": "code",
   "execution_count": 34,
   "metadata": {},
   "outputs": [
    {
     "data": {
      "text/plain": [
       "'Person(name=Lucas, age=25)'"
      ]
     },
     "execution_count": 34,
     "metadata": {},
     "output_type": "execute_result"
    }
   ],
   "source": [
    "repr(lucas)"
   ]
  },
  {
   "cell_type": "code",
   "execution_count": 35,
   "metadata": {},
   "outputs": [
    {
     "name": "stdout",
     "output_type": "stream",
     "text": [
      "Pedro tiene un puntaje de 10\n",
      "Juan tiene un puntaje de 8\n",
      "2\n"
     ]
    }
   ],
   "source": [
    "class Alumn:\n",
    "\n",
    "    alumns: int = 0\n",
    "\n",
    "    def __init__(self, name: str, score: int) -> None:\n",
    "        self.name = name\n",
    "        self.score = score\n",
    "\n",
    "        self.__class__.alumns += 1\n",
    "\n",
    "\n",
    "    def __del__(self) -> None:\n",
    "        self.__class__.alumns -= 1\n",
    "\n",
    "    def show_status(self):\n",
    "        print(f\"{self.name} tiene un puntaje de {self.score}\")\n",
    "\n",
    "\n",
    "pedro = Alumn(\"Pedro\", 10)\n",
    "pedro.show_status()\n",
    "\n",
    "juan = Alumn(\"Juan\", 8)\n",
    "juan.show_status()\n",
    "\n",
    "print(Alumn.alumns)"
   ]
  },
  {
   "cell_type": "code",
   "execution_count": 36,
   "metadata": {},
   "outputs": [
    {
     "name": "stdout",
     "output_type": "stream",
     "text": [
      "2 2 2\n"
     ]
    }
   ],
   "source": [
    "print(Alumn.alumns, pedro.alumns, juan.alumns)"
   ]
  },
  {
   "cell_type": "code",
   "execution_count": 37,
   "metadata": {},
   "outputs": [
    {
     "name": "stdout",
     "output_type": "stream",
     "text": [
      "1 1\n"
     ]
    }
   ],
   "source": [
    "del pedro\n",
    "print(Alumn.alumns, juan.alumns)"
   ]
  },
  {
   "cell_type": "markdown",
   "metadata": {},
   "source": [
    "### Colaboración entre clases"
   ]
  },
  {
   "cell_type": "code",
   "execution_count": null,
   "metadata": {},
   "outputs": [],
   "source": []
  },
  {
   "cell_type": "code",
   "execution_count": null,
   "metadata": {},
   "outputs": [],
   "source": []
  }
 ],
 "metadata": {
  "kernelspec": {
   "display_name": ".venv",
   "language": "python",
   "name": "python3"
  },
  "language_info": {
   "codemirror_mode": {
    "name": "ipython",
    "version": 3
   },
   "file_extension": ".py",
   "mimetype": "text/x-python",
   "name": "python",
   "nbconvert_exporter": "python",
   "pygments_lexer": "ipython3",
   "version": "3.10.12"
  }
 },
 "nbformat": 4,
 "nbformat_minor": 2
}
