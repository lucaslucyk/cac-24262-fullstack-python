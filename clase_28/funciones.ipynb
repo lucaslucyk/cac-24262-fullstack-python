{
 "cells": [
  {
   "cell_type": "markdown",
   "metadata": {},
   "source": [
    "# Funciones"
   ]
  },
  {
   "cell_type": "code",
   "execution_count": 1,
   "metadata": {},
   "outputs": [],
   "source": [
    "def saludar():\n",
    "    print(\"hola\")"
   ]
  },
  {
   "cell_type": "code",
   "execution_count": 2,
   "metadata": {},
   "outputs": [
    {
     "name": "stdout",
     "output_type": "stream",
     "text": [
      "hola\n"
     ]
    }
   ],
   "source": [
    "saludar()"
   ]
  },
  {
   "cell_type": "code",
   "execution_count": 3,
   "metadata": {},
   "outputs": [],
   "source": [
    "def dame_1():\n",
    "    return 1"
   ]
  },
  {
   "cell_type": "code",
   "execution_count": 4,
   "metadata": {},
   "outputs": [
    {
     "data": {
      "text/plain": [
       "1"
      ]
     },
     "execution_count": 4,
     "metadata": {},
     "output_type": "execute_result"
    }
   ],
   "source": [
    "a = dame_1()\n",
    "a"
   ]
  },
  {
   "cell_type": "code",
   "execution_count": 5,
   "metadata": {},
   "outputs": [],
   "source": [
    "def suma(x,y):\n",
    "    return x+y"
   ]
  },
  {
   "cell_type": "code",
   "execution_count": 6,
   "metadata": {},
   "outputs": [
    {
     "data": {
      "text/plain": [
       "3"
      ]
     },
     "execution_count": 6,
     "metadata": {},
     "output_type": "execute_result"
    }
   ],
   "source": [
    "suma(1,2)"
   ]
  },
  {
   "cell_type": "code",
   "execution_count": 7,
   "metadata": {},
   "outputs": [
    {
     "data": {
      "text/plain": [
       "3"
      ]
     },
     "execution_count": 7,
     "metadata": {},
     "output_type": "execute_result"
    }
   ],
   "source": [
    "suma(y=2, x=1)"
   ]
  },
  {
   "cell_type": "code",
   "execution_count": 8,
   "metadata": {},
   "outputs": [],
   "source": [
    "def foo(*args, **kwargs):\n",
    "    print(args)\n",
    "    print(kwargs)"
   ]
  },
  {
   "cell_type": "code",
   "execution_count": 9,
   "metadata": {},
   "outputs": [
    {
     "name": "stdout",
     "output_type": "stream",
     "text": [
      "(1, 2, 3, 4, 5)\n",
      "{'x': 1, 'y': 2}\n"
     ]
    }
   ],
   "source": [
    "foo(1,2,3,4,5, x=1, y=2)"
   ]
  },
  {
   "cell_type": "code",
   "execution_count": 10,
   "metadata": {},
   "outputs": [],
   "source": [
    "def suma(*args):\n",
    "    return sum(args)"
   ]
  },
  {
   "cell_type": "code",
   "execution_count": 12,
   "metadata": {},
   "outputs": [
    {
     "data": {
      "text/plain": [
       "21"
      ]
     },
     "execution_count": 12,
     "metadata": {},
     "output_type": "execute_result"
    }
   ],
   "source": [
    "suma(1,2,3,4,5,6)"
   ]
  },
  {
   "cell_type": "code",
   "execution_count": 13,
   "metadata": {},
   "outputs": [
    {
     "ename": "TypeError",
     "evalue": "unsupported operand type(s) for +: 'int' and 'str'",
     "output_type": "error",
     "traceback": [
      "\u001b[0;31m---------------------------------------------------------------------------\u001b[0m",
      "\u001b[0;31mTypeError\u001b[0m                                 Traceback (most recent call last)",
      "Cell \u001b[0;32mIn[13], line 1\u001b[0m\n\u001b[0;32m----> 1\u001b[0m \u001b[43msuma\u001b[49m\u001b[43m(\u001b[49m\u001b[38;5;124;43m\"\u001b[39;49m\u001b[38;5;124;43m1\u001b[39;49m\u001b[38;5;124;43m\"\u001b[39;49m\u001b[43m,\u001b[49m\u001b[43m \u001b[49m\u001b[38;5;124;43m\"\u001b[39;49m\u001b[38;5;124;43m2\u001b[39;49m\u001b[38;5;124;43m\"\u001b[39;49m\u001b[43m,\u001b[49m\u001b[43m \u001b[49m\u001b[38;5;124;43m\"\u001b[39;49m\u001b[38;5;124;43m3\u001b[39;49m\u001b[38;5;124;43m\"\u001b[39;49m\u001b[43m)\u001b[49m\n",
      "Cell \u001b[0;32mIn[10], line 2\u001b[0m, in \u001b[0;36msuma\u001b[0;34m(*args)\u001b[0m\n\u001b[1;32m      1\u001b[0m \u001b[38;5;28;01mdef\u001b[39;00m \u001b[38;5;21msuma\u001b[39m(\u001b[38;5;241m*\u001b[39margs):\n\u001b[0;32m----> 2\u001b[0m     \u001b[38;5;28;01mreturn\u001b[39;00m \u001b[38;5;28;43msum\u001b[39;49m\u001b[43m(\u001b[49m\u001b[43margs\u001b[49m\u001b[43m)\u001b[49m\n",
      "\u001b[0;31mTypeError\u001b[0m: unsupported operand type(s) for +: 'int' and 'str'"
     ]
    }
   ],
   "source": [
    "suma(\"1\", \"2\", \"3\")"
   ]
  },
  {
   "cell_type": "code",
   "execution_count": 14,
   "metadata": {},
   "outputs": [],
   "source": [
    "def foo(*args, **kwargs):\n",
    "    for arg in args:\n",
    "        print(arg)\n",
    "\n",
    "    for k, v in kwargs.items():\n",
    "        print(k, v)"
   ]
  },
  {
   "cell_type": "code",
   "execution_count": 15,
   "metadata": {},
   "outputs": [
    {
     "name": "stdout",
     "output_type": "stream",
     "text": [
      "1\n",
      "2\n",
      "3\n",
      "4\n",
      "5\n",
      "x 1\n",
      "y 2\n"
     ]
    }
   ],
   "source": [
    "foo(1,2,3,4,5, x=1, y=2)"
   ]
  },
  {
   "cell_type": "code",
   "execution_count": 20,
   "metadata": {},
   "outputs": [],
   "source": [
    "def show(x: dict):\n",
    "    x[\"a\"] = 3\n",
    "    print(x)"
   ]
  },
  {
   "cell_type": "code",
   "execution_count": 21,
   "metadata": {},
   "outputs": [
    {
     "name": "stdout",
     "output_type": "stream",
     "text": [
      "{'a': 3, 'b': 2}\n"
     ]
    }
   ],
   "source": [
    "d = {\"a\": 1, \"b\": 2}\n",
    "show(d)"
   ]
  },
  {
   "cell_type": "code",
   "execution_count": 22,
   "metadata": {},
   "outputs": [
    {
     "data": {
      "text/plain": [
       "{'a': 3, 'b': 2}"
      ]
     },
     "execution_count": 22,
     "metadata": {},
     "output_type": "execute_result"
    }
   ],
   "source": [
    "d"
   ]
  },
  {
   "cell_type": "code",
   "execution_count": 29,
   "metadata": {},
   "outputs": [],
   "source": [
    "def potencia(base: int, exponente: int = 2) -> int:\n",
    "    return base**exponente"
   ]
  },
  {
   "cell_type": "code",
   "execution_count": 24,
   "metadata": {},
   "outputs": [
    {
     "data": {
      "text/plain": [
       "4"
      ]
     },
     "execution_count": 24,
     "metadata": {},
     "output_type": "execute_result"
    }
   ],
   "source": [
    "potencia(2)"
   ]
  },
  {
   "cell_type": "code",
   "execution_count": 26,
   "metadata": {},
   "outputs": [
    {
     "data": {
      "text/plain": [
       "(8, 8)"
      ]
     },
     "execution_count": 26,
     "metadata": {},
     "output_type": "execute_result"
    }
   ],
   "source": [
    "potencia(2,3), potencia(2, exponente=3)"
   ]
  },
  {
   "cell_type": "code",
   "execution_count": 27,
   "metadata": {},
   "outputs": [
    {
     "ename": "SyntaxError",
     "evalue": "positional argument follows keyword argument (2450746946.py, line 1)",
     "output_type": "error",
     "traceback": [
      "\u001b[0;36m  Cell \u001b[0;32mIn[27], line 1\u001b[0;36m\u001b[0m\n\u001b[0;31m    potencia(exponente=3, 2)\u001b[0m\n\u001b[0m                           ^\u001b[0m\n\u001b[0;31mSyntaxError\u001b[0m\u001b[0;31m:\u001b[0m positional argument follows keyword argument\n"
     ]
    }
   ],
   "source": [
    "potencia(exponente=3, 2)"
   ]
  },
  {
   "cell_type": "code",
   "execution_count": 30,
   "metadata": {},
   "outputs": [],
   "source": [
    "a: int = potencia(3)"
   ]
  },
  {
   "cell_type": "code",
   "execution_count": 32,
   "metadata": {},
   "outputs": [
    {
     "name": "stdout",
     "output_type": "stream",
     "text": [
      "0\n",
      "1\n",
      "2\n",
      "3\n",
      "4\n",
      "5\n",
      "6\n",
      "7\n",
      "8\n",
      "9\n"
     ]
    }
   ],
   "source": [
    "for n in range(10):\n",
    "    print(n)"
   ]
  },
  {
   "cell_type": "code",
   "execution_count": 33,
   "metadata": {},
   "outputs": [
    {
     "data": {
      "text/plain": [
       "range"
      ]
     },
     "execution_count": 33,
     "metadata": {},
     "output_type": "execute_result"
    }
   ],
   "source": [
    "r = range(5)\n",
    "type(r)"
   ]
  },
  {
   "cell_type": "code",
   "execution_count": 49,
   "metadata": {},
   "outputs": [],
   "source": [
    "def dias():\n",
    "    var = {}\n",
    "    show(var)\n",
    "    yield \"lunes\"\n",
    "    yield \"martes\"\n",
    "    yield \"miercoles\"\n",
    "    yield \"jueves\"\n",
    "    yield \"viernes\"\n",
    "    yield \"sabado\"\n",
    "    yield \"domingo\""
   ]
  },
  {
   "cell_type": "code",
   "execution_count": 36,
   "metadata": {},
   "outputs": [
    {
     "data": {
      "text/plain": [
       "generator"
      ]
     },
     "execution_count": 36,
     "metadata": {},
     "output_type": "execute_result"
    }
   ],
   "source": [
    "d = dias()\n",
    "type(d)"
   ]
  },
  {
   "cell_type": "code",
   "execution_count": 50,
   "metadata": {},
   "outputs": [
    {
     "name": "stdout",
     "output_type": "stream",
     "text": [
      "{'a': 3}\n",
      "lunes\n",
      "martes\n",
      "miercoles\n",
      "jueves\n",
      "viernes\n",
      "sabado\n",
      "domingo\n"
     ]
    }
   ],
   "source": [
    "for dia in dias():\n",
    "    print(dia)"
   ]
  },
  {
   "cell_type": "markdown",
   "metadata": {},
   "source": [
    "### Scopes y Namespaces"
   ]
  },
  {
   "cell_type": "code",
   "execution_count": 51,
   "metadata": {},
   "outputs": [
    {
     "name": "stdout",
     "output_type": "stream",
     "text": [
      "42\n"
     ]
    }
   ],
   "source": [
    "x = 42\n",
    "\n",
    "def show():\n",
    "    print(x)\n",
    "\n",
    "show()"
   ]
  },
  {
   "cell_type": "code",
   "execution_count": 54,
   "metadata": {},
   "outputs": [
    {
     "ename": "UnboundLocalError",
     "evalue": "local variable 'x' referenced before assignment",
     "output_type": "error",
     "traceback": [
      "\u001b[0;31m---------------------------------------------------------------------------\u001b[0m",
      "\u001b[0;31mUnboundLocalError\u001b[0m                         Traceback (most recent call last)",
      "Cell \u001b[0;32mIn[54], line 8\u001b[0m\n\u001b[1;32m      5\u001b[0m     x \u001b[38;5;241m+\u001b[39m\u001b[38;5;241m=\u001b[39m \u001b[38;5;241m1\u001b[39m\n\u001b[1;32m      6\u001b[0m     \u001b[38;5;28mprint\u001b[39m(x)\n\u001b[0;32m----> 8\u001b[0m \u001b[43mshow_x_plus_one\u001b[49m\u001b[43m(\u001b[49m\u001b[43m)\u001b[49m\n",
      "Cell \u001b[0;32mIn[54], line 5\u001b[0m, in \u001b[0;36mshow_x_plus_one\u001b[0;34m()\u001b[0m\n\u001b[1;32m      3\u001b[0m \u001b[38;5;28;01mdef\u001b[39;00m \u001b[38;5;21mshow_x_plus_one\u001b[39m():\n\u001b[1;32m      4\u001b[0m     \u001b[38;5;66;03m# global x\u001b[39;00m\n\u001b[0;32m----> 5\u001b[0m     x \u001b[38;5;241m+\u001b[39m\u001b[38;5;241m=\u001b[39m \u001b[38;5;241m1\u001b[39m\n\u001b[1;32m      6\u001b[0m     \u001b[38;5;28mprint\u001b[39m(x)\n",
      "\u001b[0;31mUnboundLocalError\u001b[0m: local variable 'x' referenced before assignment"
     ]
    }
   ],
   "source": [
    "x = 42\n",
    "\n",
    "def show_x_plus_one():\n",
    "    # global x\n",
    "    x += 1\n",
    "    print(x)\n",
    "\n",
    "show_x_plus_one()"
   ]
  },
  {
   "cell_type": "code",
   "execution_count": 58,
   "metadata": {},
   "outputs": [],
   "source": [
    "x = 5\n",
    "x = 3"
   ]
  },
  {
   "cell_type": "code",
   "execution_count": 59,
   "metadata": {},
   "outputs": [
    {
     "data": {
      "text/plain": [
       "128314029982000"
      ]
     },
     "execution_count": 59,
     "metadata": {},
     "output_type": "execute_result"
    }
   ],
   "source": [
    "id(x)"
   ]
  },
  {
   "cell_type": "code",
   "execution_count": 60,
   "metadata": {},
   "outputs": [
    {
     "data": {
      "text/plain": [
       "128314029982000"
      ]
     },
     "execution_count": 60,
     "metadata": {},
     "output_type": "execute_result"
    }
   ],
   "source": [
    "id(3)"
   ]
  },
  {
   "cell_type": "code",
   "execution_count": 62,
   "metadata": {},
   "outputs": [
    {
     "data": {
      "text/plain": [
       "{'__name__': '__main__',\n",
       " '__doc__': 'Automatically created module for IPython interactive environment',\n",
       " '__package__': None,\n",
       " '__loader__': None,\n",
       " '__spec__': None,\n",
       " '__builtin__': <module 'builtins' (built-in)>,\n",
       " '__builtins__': <module 'builtins' (built-in)>,\n",
       " '_ih': ['',\n",
       "  'def saludar():\\n    print(\"hola\")',\n",
       "  'saludar()',\n",
       "  'def dame_1():\\n    return 1',\n",
       "  'a = dame_1()\\na',\n",
       "  'def suma(x,y):\\n    return x+y',\n",
       "  'suma(1,2)',\n",
       "  'suma(y=2, x=1)',\n",
       "  'def foo(*args, **kwargs):\\n    print(args)\\n    print(kwargs)',\n",
       "  'foo(1,2,3,4,5, x=1, y=2)',\n",
       "  'def suma(*args):\\n    return sum(args)',\n",
       "  'suma(1,2,3)',\n",
       "  'suma(1,2,3,4,5,6)',\n",
       "  'suma(\"1\", \"2\", \"3\")',\n",
       "  'def foo(*args, **kwargs):\\n    for arg in args:\\n        print(arg)\\n\\n    for k, v in kwargs.items():\\n        print(k, v)',\n",
       "  'foo(1,2,3,4,5, x=1, y=2)',\n",
       "  'def show(x):\\n    print(x)',\n",
       "  'show(5)',\n",
       "  'def show(x: dict):\\n    print(x)',\n",
       "  'show(5)',\n",
       "  'def show(x: dict):\\n    x[\"a\"] = 3\\n    print(x)',\n",
       "  'd = {\"a\": 1, \"b\": 2}\\nshow(d)',\n",
       "  'd',\n",
       "  'def potencia(base: int, exponente: int = 2) -> int:\\n    return base**exponente',\n",
       "  'potencia(2)',\n",
       "  'potencia(2,3)',\n",
       "  'potencia(2,3), potencia(2,exponente=3)',\n",
       "  'potencia(exponente=3, 2)',\n",
       "  'def potencia(base: int, exponente: int = 2):\\n    return base**exponente',\n",
       "  'def potencia(base: int, exponente: int = 2) -> int:\\n    return base**exponente',\n",
       "  'a: int = potencia(3)',\n",
       "  'range(10)',\n",
       "  'for n in range(10):\\n    print(n)',\n",
       "  'r = range(5)\\ntype(r)',\n",
       "  'def dias():\\n    yield \"lunes\"\\n    yield \"martes\"\\n    yield \"miercoles\"\\n    yield \"jueves\"\\n    yield \"viernes\"\\n    yield \"sabado\"\\n    yield \"domingo\"',\n",
       "  'dias()',\n",
       "  'd = dias()\\ntype(d)',\n",
       "  'next(d)',\n",
       "  'next(d)',\n",
       "  'next(d)',\n",
       "  'next(d)',\n",
       "  'next(d)',\n",
       "  'next(d)',\n",
       "  'next(d)',\n",
       "  'next(d)',\n",
       "  'for dia in dias():\\n    print(dia)',\n",
       "  'def dias():\\n    var = 2\\n    show(var)\\n    yield \"lunes\"\\n\\n    print(\"hola\")\\n    yield \"martes\"\\n    yield \"miercoles\"\\n    yield \"jueves\"\\n    yield \"viernes\"\\n    yield \"sabado\"\\n    yield \"domingo\"',\n",
       "  'def dias():\\n    var = 2\\n    show(var)\\n    yield \"lunes\"\\n    yield \"martes\"\\n    yield \"miercoles\"\\n    yield \"jueves\"\\n    yield \"viernes\"\\n    yield \"sabado\"\\n    yield \"domingo\"',\n",
       "  'for dia in dias():\\n    print(dia)',\n",
       "  'def dias():\\n    var = {}\\n    show(var)\\n    yield \"lunes\"\\n    yield \"martes\"\\n    yield \"miercoles\"\\n    yield \"jueves\"\\n    yield \"viernes\"\\n    yield \"sabado\"\\n    yield \"domingo\"',\n",
       "  'for dia in dias():\\n    print(dia)',\n",
       "  'x = 42\\n\\ndef show():\\n    print(x)\\n\\nshow()',\n",
       "  'x = 42\\n\\ndef show_x_plus_one():\\n    x += 1\\n    print(x)\\n\\nshow_x_plus_one()',\n",
       "  'x = 42\\n\\ndef show_x_plus_one():\\n    global x\\n    x += 1\\n    print(x)\\n\\nshow_x_plus_one()',\n",
       "  'x = 42\\n\\ndef show_x_plus_one():\\n    # global x\\n    x += 1\\n    print(x)\\n\\nshow_x_plus_one()',\n",
       "  'x = 5',\n",
       "  'id(x)',\n",
       "  'id(5)',\n",
       "  'x = 5\\nx = 3',\n",
       "  'id(x)',\n",
       "  'id(3)',\n",
       "  'vars()',\n",
       "  'vars()'],\n",
       " '_oh': {4: 1,\n",
       "  6: 3,\n",
       "  7: 3,\n",
       "  11: 6,\n",
       "  12: 21,\n",
       "  22: {'a': 3, 'b': 2},\n",
       "  24: 4,\n",
       "  25: 8,\n",
       "  26: (8, 8),\n",
       "  31: range(0, 10),\n",
       "  33: range,\n",
       "  35: <generator object dias at 0x74b36813b3e0>,\n",
       "  36: generator,\n",
       "  37: 'lunes',\n",
       "  38: 'martes',\n",
       "  39: 'miercoles',\n",
       "  40: 'jueves',\n",
       "  41: 'viernes',\n",
       "  42: 'sabado',\n",
       "  43: 'domingo',\n",
       "  56: 128314029982064,\n",
       "  57: 128314029982064,\n",
       "  59: 128314029982000,\n",
       "  60: 128314029982000,\n",
       "  61: {...}},\n",
       " '_dh': [PosixPath('/media/lucaslucyk/EXT3/Documentos/Programming/linux/cac-24262-fullstack-python/clase_28'),\n",
       "  PosixPath('/media/lucaslucyk/EXT3/Documentos/Programming/linux/cac-24262-fullstack-python/clase_28')],\n",
       " 'In': ['',\n",
       "  'def saludar():\\n    print(\"hola\")',\n",
       "  'saludar()',\n",
       "  'def dame_1():\\n    return 1',\n",
       "  'a = dame_1()\\na',\n",
       "  'def suma(x,y):\\n    return x+y',\n",
       "  'suma(1,2)',\n",
       "  'suma(y=2, x=1)',\n",
       "  'def foo(*args, **kwargs):\\n    print(args)\\n    print(kwargs)',\n",
       "  'foo(1,2,3,4,5, x=1, y=2)',\n",
       "  'def suma(*args):\\n    return sum(args)',\n",
       "  'suma(1,2,3)',\n",
       "  'suma(1,2,3,4,5,6)',\n",
       "  'suma(\"1\", \"2\", \"3\")',\n",
       "  'def foo(*args, **kwargs):\\n    for arg in args:\\n        print(arg)\\n\\n    for k, v in kwargs.items():\\n        print(k, v)',\n",
       "  'foo(1,2,3,4,5, x=1, y=2)',\n",
       "  'def show(x):\\n    print(x)',\n",
       "  'show(5)',\n",
       "  'def show(x: dict):\\n    print(x)',\n",
       "  'show(5)',\n",
       "  'def show(x: dict):\\n    x[\"a\"] = 3\\n    print(x)',\n",
       "  'd = {\"a\": 1, \"b\": 2}\\nshow(d)',\n",
       "  'd',\n",
       "  'def potencia(base: int, exponente: int = 2) -> int:\\n    return base**exponente',\n",
       "  'potencia(2)',\n",
       "  'potencia(2,3)',\n",
       "  'potencia(2,3), potencia(2,exponente=3)',\n",
       "  'potencia(exponente=3, 2)',\n",
       "  'def potencia(base: int, exponente: int = 2):\\n    return base**exponente',\n",
       "  'def potencia(base: int, exponente: int = 2) -> int:\\n    return base**exponente',\n",
       "  'a: int = potencia(3)',\n",
       "  'range(10)',\n",
       "  'for n in range(10):\\n    print(n)',\n",
       "  'r = range(5)\\ntype(r)',\n",
       "  'def dias():\\n    yield \"lunes\"\\n    yield \"martes\"\\n    yield \"miercoles\"\\n    yield \"jueves\"\\n    yield \"viernes\"\\n    yield \"sabado\"\\n    yield \"domingo\"',\n",
       "  'dias()',\n",
       "  'd = dias()\\ntype(d)',\n",
       "  'next(d)',\n",
       "  'next(d)',\n",
       "  'next(d)',\n",
       "  'next(d)',\n",
       "  'next(d)',\n",
       "  'next(d)',\n",
       "  'next(d)',\n",
       "  'next(d)',\n",
       "  'for dia in dias():\\n    print(dia)',\n",
       "  'def dias():\\n    var = 2\\n    show(var)\\n    yield \"lunes\"\\n\\n    print(\"hola\")\\n    yield \"martes\"\\n    yield \"miercoles\"\\n    yield \"jueves\"\\n    yield \"viernes\"\\n    yield \"sabado\"\\n    yield \"domingo\"',\n",
       "  'def dias():\\n    var = 2\\n    show(var)\\n    yield \"lunes\"\\n    yield \"martes\"\\n    yield \"miercoles\"\\n    yield \"jueves\"\\n    yield \"viernes\"\\n    yield \"sabado\"\\n    yield \"domingo\"',\n",
       "  'for dia in dias():\\n    print(dia)',\n",
       "  'def dias():\\n    var = {}\\n    show(var)\\n    yield \"lunes\"\\n    yield \"martes\"\\n    yield \"miercoles\"\\n    yield \"jueves\"\\n    yield \"viernes\"\\n    yield \"sabado\"\\n    yield \"domingo\"',\n",
       "  'for dia in dias():\\n    print(dia)',\n",
       "  'x = 42\\n\\ndef show():\\n    print(x)\\n\\nshow()',\n",
       "  'x = 42\\n\\ndef show_x_plus_one():\\n    x += 1\\n    print(x)\\n\\nshow_x_plus_one()',\n",
       "  'x = 42\\n\\ndef show_x_plus_one():\\n    global x\\n    x += 1\\n    print(x)\\n\\nshow_x_plus_one()',\n",
       "  'x = 42\\n\\ndef show_x_plus_one():\\n    # global x\\n    x += 1\\n    print(x)\\n\\nshow_x_plus_one()',\n",
       "  'x = 5',\n",
       "  'id(x)',\n",
       "  'id(5)',\n",
       "  'x = 5\\nx = 3',\n",
       "  'id(x)',\n",
       "  'id(3)',\n",
       "  'vars()',\n",
       "  'vars()'],\n",
       " 'Out': {4: 1,\n",
       "  6: 3,\n",
       "  7: 3,\n",
       "  11: 6,\n",
       "  12: 21,\n",
       "  22: {'a': 3, 'b': 2},\n",
       "  24: 4,\n",
       "  25: 8,\n",
       "  26: (8, 8),\n",
       "  31: range(0, 10),\n",
       "  33: range,\n",
       "  35: <generator object dias at 0x74b36813b3e0>,\n",
       "  36: generator,\n",
       "  37: 'lunes',\n",
       "  38: 'martes',\n",
       "  39: 'miercoles',\n",
       "  40: 'jueves',\n",
       "  41: 'viernes',\n",
       "  42: 'sabado',\n",
       "  43: 'domingo',\n",
       "  56: 128314029982064,\n",
       "  57: 128314029982064,\n",
       "  59: 128314029982000,\n",
       "  60: 128314029982000,\n",
       "  61: {...}},\n",
       " 'get_ipython': <bound method InteractiveShell.get_ipython of <ipykernel.zmqshell.ZMQInteractiveShell object at 0x74b36ab175e0>>,\n",
       " 'exit': <IPython.core.autocall.ZMQExitAutocall at 0x74b36ab681f0>,\n",
       " 'quit': <IPython.core.autocall.ZMQExitAutocall at 0x74b36ab681f0>,\n",
       " 'open': <function io.open(file, mode='r', buffering=-1, encoding=None, errors=None, newline=None, closefd=True, opener=None)>,\n",
       " '_': {...},\n",
       " '__': 128314029982000,\n",
       " '___': 128314029982000,\n",
       " '__vsc_ipynb_file__': '/media/lucaslucyk/EXT3/Documentos/Programming/linux/cac-24262-fullstack-python/clase_28/funciones.ipynb',\n",
       " '_i': 'vars()',\n",
       " '_ii': 'id(3)',\n",
       " '_iii': 'id(x)',\n",
       " '_i1': 'def saludar():\\n    print(\"hola\")',\n",
       " 'saludar': <function __main__.saludar()>,\n",
       " '_i2': 'saludar()',\n",
       " '_i3': 'def dame_1():\\n    return 1',\n",
       " 'dame_1': <function __main__.dame_1()>,\n",
       " '_i4': 'a = dame_1()\\na',\n",
       " 'a': 9,\n",
       " '_4': 1,\n",
       " '_i5': 'def suma(x,y):\\n    return x+y',\n",
       " 'suma': <function __main__.suma(*args)>,\n",
       " '_i6': 'suma(1,2)',\n",
       " '_6': 3,\n",
       " '_i7': 'suma(y=2, x=1)',\n",
       " '_7': 3,\n",
       " '_i8': 'def foo(*args, **kwargs):\\n    print(args)\\n    print(kwargs)',\n",
       " 'foo': <function __main__.foo(*args, **kwargs)>,\n",
       " '_i9': 'foo(1,2,3,4,5, x=1, y=2)',\n",
       " '_i10': 'def suma(*args):\\n    return sum(args)',\n",
       " '_i11': 'suma(1,2,3)',\n",
       " '_11': 6,\n",
       " '_i12': 'suma(1,2,3,4,5,6)',\n",
       " '_12': 21,\n",
       " '_i13': 'suma(\"1\", \"2\", \"3\")',\n",
       " '_i14': 'def foo(*args, **kwargs):\\n    for arg in args:\\n        print(arg)\\n\\n    for k, v in kwargs.items():\\n        print(k, v)',\n",
       " '_i15': 'foo(1,2,3,4,5, x=1, y=2)',\n",
       " '_i16': 'def show(x):\\n    print(x)',\n",
       " 'show': <function __main__.show()>,\n",
       " '_i17': 'show(5)',\n",
       " '_i18': 'def show(x: dict):\\n    print(x)',\n",
       " '_i19': 'show(5)',\n",
       " '_i20': 'def show(x: dict):\\n    x[\"a\"] = 3\\n    print(x)',\n",
       " '_i21': 'd = {\"a\": 1, \"b\": 2}\\nshow(d)',\n",
       " 'd': <generator object dias at 0x74b36813b610>,\n",
       " '_i22': 'd',\n",
       " '_22': {'a': 3, 'b': 2},\n",
       " '_i23': 'def potencia(base: int, exponente: int = 2) -> int:\\n    return base**exponente',\n",
       " 'potencia': <function __main__.potencia(base: int, exponente: int = 2) -> int>,\n",
       " '_i24': 'potencia(2)',\n",
       " '_24': 4,\n",
       " '_i25': 'potencia(2,3)',\n",
       " '_25': 8,\n",
       " '_i26': 'potencia(2,3), potencia(2,exponente=3)',\n",
       " '_26': (8, 8),\n",
       " '_i27': 'potencia(exponente=3, 2)',\n",
       " '_i28': 'def potencia(base: int, exponente: int = 2):\\n    return base**exponente',\n",
       " '_i29': 'def potencia(base: int, exponente: int = 2) -> int:\\n    return base**exponente',\n",
       " '_i30': 'a: int = potencia(3)',\n",
       " '__annotations__': {'a': int},\n",
       " '_i31': 'range(10)',\n",
       " '_31': range(0, 10),\n",
       " 'builtins': <module 'builtins' (built-in)>,\n",
       " 'ipykernel': <module 'ipykernel' from '/media/lucaslucyk/EXT3/Documentos/Programming/linux/cac-24262-fullstack-python/.venv/lib/python3.10/site-packages/ipykernel/__init__.py'>,\n",
       " 'debugpy': <module 'debugpy' from '/media/lucaslucyk/EXT3/Documentos/Programming/linux/cac-24262-fullstack-python/.venv/lib/python3.10/site-packages/debugpy/__init__.py'>,\n",
       " '_i32': 'for n in range(10):\\n    print(n)',\n",
       " 'n': 9,\n",
       " 'file': '/tmp/ipykernel_3380126/3990065800.py',\n",
       " '_i33': 'r = range(5)\\ntype(r)',\n",
       " 'r': range(0, 5),\n",
       " '_33': range,\n",
       " '_i34': 'def dias():\\n    yield \"lunes\"\\n    yield \"martes\"\\n    yield \"miercoles\"\\n    yield \"jueves\"\\n    yield \"viernes\"\\n    yield \"sabado\"\\n    yield \"domingo\"',\n",
       " 'dias': <function __main__.dias()>,\n",
       " '_i35': 'dias()',\n",
       " '_35': <generator object dias at 0x74b36813b3e0>,\n",
       " '_i36': 'd = dias()\\ntype(d)',\n",
       " '_36': generator,\n",
       " '_i37': 'next(d)',\n",
       " '_37': 'lunes',\n",
       " '_i38': 'next(d)',\n",
       " '_38': 'martes',\n",
       " '_i39': 'next(d)',\n",
       " '_39': 'miercoles',\n",
       " '_i40': 'next(d)',\n",
       " '_40': 'jueves',\n",
       " '_i41': 'next(d)',\n",
       " '_41': 'viernes',\n",
       " '_i42': 'next(d)',\n",
       " '_42': 'sabado',\n",
       " '_i43': 'next(d)',\n",
       " '_43': 'domingo',\n",
       " '_i44': 'next(d)',\n",
       " '_i45': 'for dia in dias():\\n    print(dia)',\n",
       " 'dia': 'domingo',\n",
       " '_i46': 'def dias():\\n    var = 2\\n    show(var)\\n    yield \"lunes\"\\n\\n    print(\"hola\")\\n    yield \"martes\"\\n    yield \"miercoles\"\\n    yield \"jueves\"\\n    yield \"viernes\"\\n    yield \"sabado\"\\n    yield \"domingo\"',\n",
       " '_i47': 'def dias():\\n    var = 2\\n    show(var)\\n    yield \"lunes\"\\n    yield \"martes\"\\n    yield \"miercoles\"\\n    yield \"jueves\"\\n    yield \"viernes\"\\n    yield \"sabado\"\\n    yield \"domingo\"',\n",
       " '_i48': 'for dia in dias():\\n    print(dia)',\n",
       " '_i49': 'def dias():\\n    var = {}\\n    show(var)\\n    yield \"lunes\"\\n    yield \"martes\"\\n    yield \"miercoles\"\\n    yield \"jueves\"\\n    yield \"viernes\"\\n    yield \"sabado\"\\n    yield \"domingo\"',\n",
       " '_i50': 'for dia in dias():\\n    print(dia)',\n",
       " '_i51': 'x = 42\\n\\ndef show():\\n    print(x)\\n\\nshow()',\n",
       " 'x': 3,\n",
       " '_i52': 'x = 42\\n\\ndef show_x_plus_one():\\n    x += 1\\n    print(x)\\n\\nshow_x_plus_one()',\n",
       " 'show_x_plus_one': <function __main__.show_x_plus_one()>,\n",
       " '_i53': 'x = 42\\n\\ndef show_x_plus_one():\\n    global x\\n    x += 1\\n    print(x)\\n\\nshow_x_plus_one()',\n",
       " '_i54': 'x = 42\\n\\ndef show_x_plus_one():\\n    # global x\\n    x += 1\\n    print(x)\\n\\nshow_x_plus_one()',\n",
       " '_i55': 'x = 5',\n",
       " '_i56': 'id(x)',\n",
       " '_56': 128314029982064,\n",
       " '_i57': 'id(5)',\n",
       " '_57': 128314029982064,\n",
       " '_i58': 'x = 5\\nx = 3',\n",
       " '_i59': 'id(x)',\n",
       " '_59': 128314029982000,\n",
       " '_i60': 'id(3)',\n",
       " '_60': 128314029982000,\n",
       " '_i61': 'vars()',\n",
       " '_61': {...},\n",
       " '_i62': 'vars()'}"
      ]
     },
     "execution_count": 62,
     "metadata": {},
     "output_type": "execute_result"
    }
   ],
   "source": [
    "vars(), locals(), globals()"
   ]
  },
  {
   "cell_type": "code",
   "execution_count": 63,
   "metadata": {},
   "outputs": [],
   "source": [
    "vars()[\"y\"] = 8"
   ]
  },
  {
   "cell_type": "code",
   "execution_count": 64,
   "metadata": {},
   "outputs": [
    {
     "data": {
      "text/plain": [
       "8"
      ]
     },
     "execution_count": 64,
     "metadata": {},
     "output_type": "execute_result"
    }
   ],
   "source": [
    "y"
   ]
  },
  {
   "cell_type": "code",
   "execution_count": 65,
   "metadata": {},
   "outputs": [
    {
     "name": "stdout",
     "output_type": "stream",
     "text": [
      "3\n"
     ]
    }
   ],
   "source": [
    "x = 3\n",
    "\n",
    "def foo():\n",
    "    print(x) # variable libre\n",
    "\n",
    "foo()"
   ]
  },
  {
   "cell_type": "code",
   "execution_count": 67,
   "metadata": {},
   "outputs": [
    {
     "name": "stdout",
     "output_type": "stream",
     "text": [
      "2\n",
      "3\n"
     ]
    }
   ],
   "source": [
    "a = 3\n",
    "\n",
    "def spam(a):\n",
    "    print(a)   # variable ligada\n",
    "\n",
    "spam(2)\n",
    "spam(a)"
   ]
  },
  {
   "cell_type": "code",
   "execution_count": 68,
   "metadata": {},
   "outputs": [
    {
     "name": "stdout",
     "output_type": "stream",
     "text": [
      "43\n"
     ]
    }
   ],
   "source": [
    "x = 42\n",
    "\n",
    "def show_x_plus_one():\n",
    "    # global x\n",
    "    # x += 1\n",
    "\n",
    "    global x\n",
    "    x = x + 1   # x? qué x=?\n",
    "    print(x)\n",
    "\n",
    "show_x_plus_one()"
   ]
  },
  {
   "cell_type": "markdown",
   "metadata": {},
   "source": [
    "### Funciones Lambdas"
   ]
  },
  {
   "cell_type": "code",
   "execution_count": 69,
   "metadata": {},
   "outputs": [],
   "source": [
    "def suma(x, y):\n",
    "    return x+y"
   ]
  },
  {
   "cell_type": "code",
   "execution_count": 70,
   "metadata": {},
   "outputs": [
    {
     "data": {
      "text/plain": [
       "3"
      ]
     },
     "execution_count": 70,
     "metadata": {},
     "output_type": "execute_result"
    }
   ],
   "source": [
    "suma(1,2)"
   ]
  },
  {
   "cell_type": "code",
   "execution_count": 71,
   "metadata": {},
   "outputs": [],
   "source": [
    "sumal = lambda x, y: x+y"
   ]
  },
  {
   "cell_type": "code",
   "execution_count": 72,
   "metadata": {},
   "outputs": [
    {
     "data": {
      "text/plain": [
       "function"
      ]
     },
     "execution_count": 72,
     "metadata": {},
     "output_type": "execute_result"
    }
   ],
   "source": [
    "type(sumal)"
   ]
  },
  {
   "cell_type": "code",
   "execution_count": 73,
   "metadata": {},
   "outputs": [
    {
     "data": {
      "text/plain": [
       "3"
      ]
     },
     "execution_count": 73,
     "metadata": {},
     "output_type": "execute_result"
    }
   ],
   "source": [
    "sumal(1,2)"
   ]
  },
  {
   "cell_type": "code",
   "execution_count": 74,
   "metadata": {},
   "outputs": [],
   "source": [
    "def do_calc(func, x, y):\n",
    "    return func(x, y)"
   ]
  },
  {
   "cell_type": "code",
   "execution_count": 75,
   "metadata": {},
   "outputs": [
    {
     "data": {
      "text/plain": [
       "3"
      ]
     },
     "execution_count": 75,
     "metadata": {},
     "output_type": "execute_result"
    }
   ],
   "source": [
    "do_calc(suma, 1, 2)"
   ]
  },
  {
   "cell_type": "code",
   "execution_count": 76,
   "metadata": {},
   "outputs": [
    {
     "data": {
      "text/plain": [
       "7"
      ]
     },
     "execution_count": 76,
     "metadata": {},
     "output_type": "execute_result"
    }
   ],
   "source": [
    "do_calc(lambda x, y: x*y+5 , 1, 2)"
   ]
  },
  {
   "cell_type": "code",
   "execution_count": 77,
   "metadata": {},
   "outputs": [
    {
     "data": {
      "text/plain": [
       "[1, 4, 9, 16, 25, 36, 49, 64, 81, 100]"
      ]
     },
     "execution_count": 77,
     "metadata": {},
     "output_type": "execute_result"
    }
   ],
   "source": [
    "enteros = [1, 2, 3, 4, 5, 6, 7, 8, 9, 10]\n",
    "cuadrados = list(map(lambda x: x**2, enteros))\n",
    "cuadrados"
   ]
  },
  {
   "cell_type": "code",
   "execution_count": 79,
   "metadata": {},
   "outputs": [],
   "source": [
    "def es_par(n):\n",
    "    return n%2==0"
   ]
  },
  {
   "cell_type": "code",
   "execution_count": 81,
   "metadata": {},
   "outputs": [
    {
     "data": {
      "text/plain": [
       "[2, 4, 6, 8, 10]"
      ]
     },
     "execution_count": 81,
     "metadata": {},
     "output_type": "execute_result"
    }
   ],
   "source": [
    "pares = list(filter(lambda x: x%2==0, enteros))\n",
    "pares"
   ]
  },
  {
   "cell_type": "code",
   "execution_count": 86,
   "metadata": {},
   "outputs": [
    {
     "data": {
      "text/plain": [
       "10"
      ]
     },
     "execution_count": 86,
     "metadata": {},
     "output_type": "execute_result"
    }
   ],
   "source": [
    "potencia(2,5)"
   ]
  },
  {
   "cell_type": "code",
   "execution_count": 85,
   "metadata": {},
   "outputs": [],
   "source": [
    "def potencia(x: int, y: int) -> int:\n",
    "    \"\"\"Calcula la potencia de un número\n",
    "\n",
    "    Args:\n",
    "        x (int): Base\n",
    "        y (int): Exponente\n",
    "\n",
    "    Returns:\n",
    "        int: Resultado de la potencia\n",
    "    \"\"\"\n",
    "    return x * y"
   ]
  },
  {
   "cell_type": "code",
   "execution_count": 4,
   "metadata": {},
   "outputs": [],
   "source": [
    "def resta(x: int | float, y: int | float) -> int | float:\n",
    "    \"\"\"Resta dos números\"\"\"\n",
    "\n",
    "    return x - y"
   ]
  },
  {
   "cell_type": "code",
   "execution_count": 6,
   "metadata": {},
   "outputs": [],
   "source": [
    "from typing import Union\n",
    "\n",
    "Number = Union[int, float]\n",
    "\n",
    "def resta(x: Number, y: Number) -> int | float:\n",
    "    \"\"\"Resta dos números\"\"\"\n",
    "\n",
    "    return x - y"
   ]
  },
  {
   "cell_type": "code",
   "execution_count": 3,
   "metadata": {},
   "outputs": [
    {
     "data": {
      "text/plain": [
       "-1.5"
      ]
     },
     "execution_count": 3,
     "metadata": {},
     "output_type": "execute_result"
    }
   ],
   "source": [
    "resta(1.5,3)"
   ]
  }
 ],
 "metadata": {
  "kernelspec": {
   "display_name": ".venv",
   "language": "python",
   "name": "python3"
  },
  "language_info": {
   "codemirror_mode": {
    "name": "ipython",
    "version": 3
   },
   "file_extension": ".py",
   "mimetype": "text/x-python",
   "name": "python",
   "nbconvert_exporter": "python",
   "pygments_lexer": "ipython3",
   "version": "3.10.12"
  }
 },
 "nbformat": 4,
 "nbformat_minor": 2
}
