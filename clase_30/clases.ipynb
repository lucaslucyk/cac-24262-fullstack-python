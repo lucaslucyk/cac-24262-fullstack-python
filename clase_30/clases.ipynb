{
 "cells": [
  {
   "cell_type": "markdown",
   "metadata": {},
   "source": [
    "### Colaboración entre clases"
   ]
  },
  {
   "cell_type": "code",
   "execution_count": 2,
   "metadata": {},
   "outputs": [
    {
     "name": "stdout",
     "output_type": "stream",
     "text": [
      "Pedro\n"
     ]
    },
    {
     "data": {
      "text/plain": [
       "'Pedro, Juan, Maria'"
      ]
     },
     "execution_count": 2,
     "metadata": {},
     "output_type": "execute_result"
    }
   ],
   "source": [
    "class Student:\n",
    "\n",
    "    def __init__(self, name: str) -> None:\n",
    "        self.name = name\n",
    "\n",
    "    def __str__(self) -> str:\n",
    "        return f\"{self.name}\"\n",
    "\n",
    "    def __repr__(self) -> str:\n",
    "        return f\"{self.__class__.__name__}(name={self.name})\"\n",
    "\n",
    "    def enroll(self, course: \"Course\") -> None:\n",
    "        course.add_student(self)\n",
    "\n",
    "\n",
    "class Course:\n",
    "\n",
    "    def __init__(self, name: str) -> None:\n",
    "        self.name = name\n",
    "        self._students: list[Student] = []\n",
    "\n",
    "    def add_student(self, student: Student) -> None:\n",
    "        self._students.append(student)\n",
    "\n",
    "    def show_students(self) -> None:\n",
    "        return \", \".join([s.name for s in self._students])\n",
    "\n",
    "\n",
    "s1 = Student(\"Pedro\")\n",
    "s2 = Student(\"Juan\")\n",
    "s3 = Student(\"Maria\")\n",
    "\n",
    "\n",
    "c = Course(\"Python\")\n",
    "c.show_students() # []\n",
    "\n",
    "c.add_student(s1)\n",
    "c.add_student(s2)\n",
    "\n",
    "c.show_students() # [\"Pedro\"]\n",
    "\n",
    "s3.enroll(c)\n",
    "c.show_students()"
   ]
  },
  {
   "cell_type": "code",
   "execution_count": 3,
   "metadata": {},
   "outputs": [
    {
     "data": {
      "text/plain": [
       "tuple"
      ]
     },
     "execution_count": 3,
     "metadata": {},
     "output_type": "execute_result"
    }
   ],
   "source": [
    "t = (1,)\n",
    "type(t)"
   ]
  },
  {
   "cell_type": "code",
   "execution_count": null,
   "metadata": {},
   "outputs": [],
   "source": []
  },
  {
   "cell_type": "markdown",
   "metadata": {},
   "source": [
    "#### Extra"
   ]
  },
  {
   "cell_type": "code",
   "execution_count": 12,
   "metadata": {},
   "outputs": [],
   "source": [
    "\n",
    "\n",
    "from datetime import date\n",
    "\n",
    "\n",
    "class Persona:\n",
    "\n",
    "    def __init__(self, name: str, birth_date: date) -> None:\n",
    "        self.name = name\n",
    "        self.birth_date = birth_date\n",
    "\n",
    "    def __str__(self) -> str:\n",
    "        return f\"{self.name}\"\n",
    "\n",
    "    def __repr__(self) -> str:\n",
    "        return f\"{self.__class__.__name__}(name={self.name})\"\n",
    "\n",
    "    @property\n",
    "    def age(self):\n",
    "        today = date.today()\n",
    "        age = today.year - self.birth_date.year\n",
    "        return age"
   ]
  },
  {
   "cell_type": "code",
   "execution_count": 13,
   "metadata": {},
   "outputs": [
    {
     "data": {
      "text/plain": [
       "25"
      ]
     },
     "execution_count": 13,
     "metadata": {},
     "output_type": "execute_result"
    }
   ],
   "source": [
    "p = Persona(\"Pedro\", date(2000, 1, 1))\n",
    "p.age"
   ]
  },
  {
   "cell_type": "code",
   "execution_count": null,
   "metadata": {},
   "outputs": [],
   "source": []
  }
 ],
 "metadata": {
  "kernelspec": {
   "display_name": ".venv",
   "language": "python",
   "name": "python3"
  },
  "language_info": {
   "codemirror_mode": {
    "name": "ipython",
    "version": 3
   },
   "file_extension": ".py",
   "mimetype": "text/x-python",
   "name": "python",
   "nbconvert_exporter": "python",
   "pygments_lexer": "ipython3",
   "version": "3.10.12"
  }
 },
 "nbformat": 4,
 "nbformat_minor": 2
}
