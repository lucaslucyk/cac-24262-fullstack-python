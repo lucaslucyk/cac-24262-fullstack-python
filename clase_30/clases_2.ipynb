{
 "cells": [
  {
   "cell_type": "markdown",
   "metadata": {},
   "source": [
    "## Herencia"
   ]
  },
  {
   "cell_type": "code",
   "execution_count": 3,
   "metadata": {},
   "outputs": [],
   "source": [
    "class SerVivo:\n",
    "\n",
    "    def respirar(self):\n",
    "        print(\"Soy capaz de respirar\")\n",
    "\n",
    "\n",
    "class Humano(SerVivo):\n",
    "\n",
    "    def hablar(self):\n",
    "        print(\"Soy capaz de hablar\")\n",
    "\n",
    "class Perro(SerVivo):\n",
    "\n",
    "    def ladrar(self):\n",
    "        print(\"Soy capaz de ladrar\")"
   ]
  },
  {
   "cell_type": "code",
   "execution_count": 2,
   "metadata": {},
   "outputs": [
    {
     "name": "stdout",
     "output_type": "stream",
     "text": [
      "Soy capaz de respirar\n",
      "Soy capaz de respirar\n",
      "Soy capaz de hablar\n"
     ]
    }
   ],
   "source": [
    "sv = SerVivo()\n",
    "sv.respirar()\n",
    "\n",
    "h = Humano()\n",
    "h.respirar()\n",
    "h.hablar()"
   ]
  },
  {
   "cell_type": "code",
   "execution_count": 4,
   "metadata": {},
   "outputs": [
    {
     "name": "stdout",
     "output_type": "stream",
     "text": [
      "Soy capaz de respirar\n",
      "Soy capaz de ladrar\n"
     ]
    }
   ],
   "source": [
    "p = Perro()\n",
    "p.respirar()\n",
    "p.ladrar()"
   ]
  },
  {
   "cell_type": "code",
   "execution_count": 5,
   "metadata": {},
   "outputs": [
    {
     "ename": "AttributeError",
     "evalue": "'Perro' object has no attribute 'hablar'",
     "output_type": "error",
     "traceback": [
      "\u001b[0;31m---------------------------------------------------------------------------\u001b[0m",
      "\u001b[0;31mAttributeError\u001b[0m                            Traceback (most recent call last)",
      "Cell \u001b[0;32mIn[5], line 1\u001b[0m\n\u001b[0;32m----> 1\u001b[0m \u001b[43mp\u001b[49m\u001b[38;5;241;43m.\u001b[39;49m\u001b[43mhablar\u001b[49m()\n",
      "\u001b[0;31mAttributeError\u001b[0m: 'Perro' object has no attribute 'hablar'"
     ]
    }
   ],
   "source": [
    "p.hablar()"
   ]
  },
  {
   "cell_type": "markdown",
   "metadata": {},
   "source": [
    "## Encapsulación"
   ]
  },
  {
   "cell_type": "code",
   "execution_count": 6,
   "metadata": {},
   "outputs": [],
   "source": [
    "#DRY\n",
    "\n",
    "class Habitacion:\n",
    "    _PIN = 9348"
   ]
  },
  {
   "cell_type": "code",
   "execution_count": 7,
   "metadata": {},
   "outputs": [
    {
     "data": {
      "text/plain": [
       "9348"
      ]
     },
     "execution_count": 7,
     "metadata": {},
     "output_type": "execute_result"
    }
   ],
   "source": [
    "h = Habitacion()\n",
    "h._PIN"
   ]
  },
  {
   "cell_type": "code",
   "execution_count": 10,
   "metadata": {},
   "outputs": [],
   "source": [
    "class Habitacion2:\n",
    "    __PIN = 9348\n",
    "\n",
    "    def show_pin(self):\n",
    "        print(self.__PIN)\n"
   ]
  },
  {
   "cell_type": "code",
   "execution_count": 11,
   "metadata": {},
   "outputs": [
    {
     "name": "stdout",
     "output_type": "stream",
     "text": [
      "9348\n"
     ]
    }
   ],
   "source": [
    "h2 = Habitacion2()\n",
    "h2.show_pin()"
   ]
  },
  {
   "cell_type": "code",
   "execution_count": 12,
   "metadata": {},
   "outputs": [
    {
     "data": {
      "text/plain": [
       "9348"
      ]
     },
     "execution_count": 12,
     "metadata": {},
     "output_type": "execute_result"
    }
   ],
   "source": [
    "h2._Habitacion2__PIN"
   ]
  },
  {
   "cell_type": "code",
   "execution_count": 15,
   "metadata": {},
   "outputs": [],
   "source": [
    "class Habitacion:\n",
    "    __PIN = 9348\n",
    "\n",
    "\n",
    "class CajaFuerte(Habitacion):\n",
    "    def __init__(self, PIN) -> None:\n",
    "        self.__PIN = PIN"
   ]
  },
  {
   "cell_type": "code",
   "execution_count": 17,
   "metadata": {},
   "outputs": [
    {
     "data": {
      "text/plain": [
       "2222"
      ]
     },
     "execution_count": 17,
     "metadata": {},
     "output_type": "execute_result"
    }
   ],
   "source": [
    "cf = CajaFuerte(2222)\n",
    "cf._CajaFuerte__PIN"
   ]
  },
  {
   "cell_type": "code",
   "execution_count": 18,
   "metadata": {},
   "outputs": [
    {
     "data": {
      "text/plain": [
       "9348"
      ]
     },
     "execution_count": 18,
     "metadata": {},
     "output_type": "execute_result"
    }
   ],
   "source": [
    "cf._Habitacion__PIN"
   ]
  },
  {
   "cell_type": "markdown",
   "metadata": {},
   "source": [
    "## Decoradores"
   ]
  },
  {
   "cell_type": "code",
   "execution_count": 20,
   "metadata": {},
   "outputs": [],
   "source": [
    "\n",
    "def sumar(a, b):\n",
    "    return a + b"
   ]
  },
  {
   "cell_type": "code",
   "execution_count": 21,
   "metadata": {},
   "outputs": [
    {
     "data": {
      "text/plain": [
       "8"
      ]
     },
     "execution_count": 21,
     "metadata": {},
     "output_type": "execute_result"
    }
   ],
   "source": [
    "sumar(5,3)"
   ]
  },
  {
   "cell_type": "code",
   "execution_count": 25,
   "metadata": {},
   "outputs": [],
   "source": [
    "def show_message(func):\n",
    "    def wrapper(*args, **kwargs):\n",
    "        print(\"Hola\")\n",
    "        value = func(*args, **kwargs)\n",
    "        print(\"Adios\")\n",
    "        return value\n",
    "    return wrapper"
   ]
  },
  {
   "cell_type": "code",
   "execution_count": 26,
   "metadata": {},
   "outputs": [],
   "source": [
    "@show_message\n",
    "def sumar(a, b):\n",
    "    return a + b"
   ]
  },
  {
   "cell_type": "code",
   "execution_count": 28,
   "metadata": {},
   "outputs": [
    {
     "name": "stdout",
     "output_type": "stream",
     "text": [
      "Hola\n",
      "Adios\n",
      "8\n"
     ]
    }
   ],
   "source": [
    "result = sumar(5,3)\n",
    "print(result)"
   ]
  },
  {
   "cell_type": "markdown",
   "metadata": {},
   "source": [
    "## Clases abstractas"
   ]
  },
  {
   "cell_type": "code",
   "execution_count": 37,
   "metadata": {},
   "outputs": [],
   "source": [
    "class Vehiculo:\n",
    "    def acelerar(self):\n",
    "        print(\"Soy capaz de acelerar\")\n",
    "\n",
    "class Auto(Vehiculo):\n",
    "    def acelerar(self):\n",
    "        print(\"Pisar el acelerador\")\n",
    "\n",
    "class Moto(Vehiculo):\n",
    "    pass"
   ]
  },
  {
   "cell_type": "code",
   "execution_count": 38,
   "metadata": {},
   "outputs": [
    {
     "name": "stdout",
     "output_type": "stream",
     "text": [
      "Pisar el acelerador\n",
      "Soy capaz de acelerar\n"
     ]
    }
   ],
   "source": [
    "a = Auto()\n",
    "a.acelerar()\n",
    "\n",
    "\n",
    "m = Moto()\n",
    "m.acelerar()"
   ]
  },
  {
   "cell_type": "code",
   "execution_count": 46,
   "metadata": {},
   "outputs": [],
   "source": [
    "from abc import ABC, abstractmethod\n",
    "\n",
    "class Vehiculo(ABC):\n",
    "    \n",
    "    @abstractmethod\n",
    "    def acelerar(self):\n",
    "        pass\n",
    "\n",
    "    @property\n",
    "    @abstractmethod\n",
    "    def ruedas(self):\n",
    "        pass\n",
    "\n",
    "class Auto(Vehiculo):\n",
    "    ruedas = 4\n",
    "\n",
    "    def acelerar(self):\n",
    "        print(\"Pisar el acelerador\")\n",
    "\n",
    "class Moto(Vehiculo):\n",
    "    ruedas = 2\n",
    "\n",
    "    def acelerar(self):\n",
    "        print(\"Girar el acelerador\")"
   ]
  },
  {
   "cell_type": "code",
   "execution_count": 47,
   "metadata": {},
   "outputs": [
    {
     "name": "stdout",
     "output_type": "stream",
     "text": [
      "Pisar el acelerador\n"
     ]
    },
    {
     "data": {
      "text/plain": [
       "4"
      ]
     },
     "execution_count": 47,
     "metadata": {},
     "output_type": "execute_result"
    }
   ],
   "source": [
    "a = Auto()\n",
    "a.acelerar()\n",
    "a.ruedas"
   ]
  },
  {
   "cell_type": "code",
   "execution_count": 48,
   "metadata": {},
   "outputs": [
    {
     "name": "stdout",
     "output_type": "stream",
     "text": [
      "Girar el acelerador\n"
     ]
    },
    {
     "data": {
      "text/plain": [
       "2"
      ]
     },
     "execution_count": 48,
     "metadata": {},
     "output_type": "execute_result"
    }
   ],
   "source": [
    "m = Moto()\n",
    "m.acelerar()\n",
    "m.ruedas"
   ]
  },
  {
   "cell_type": "code",
   "execution_count": null,
   "metadata": {},
   "outputs": [],
   "source": []
  }
 ],
 "metadata": {
  "kernelspec": {
   "display_name": ".venv",
   "language": "python",
   "name": "python3"
  },
  "language_info": {
   "codemirror_mode": {
    "name": "ipython",
    "version": 3
   },
   "file_extension": ".py",
   "mimetype": "text/x-python",
   "name": "python",
   "nbconvert_exporter": "python",
   "pygments_lexer": "ipython3",
   "version": "3.10.12"
  }
 },
 "nbformat": 4,
 "nbformat_minor": 2
}
